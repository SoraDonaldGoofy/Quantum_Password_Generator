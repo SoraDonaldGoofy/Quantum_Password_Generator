{
 "cells": [
  {
   "cell_type": "code",
   "execution_count": 1,
   "id": "b3fa519f-ed17-431f-8d52-60f100b80bcf",
   "metadata": {
    "tags": []
   },
   "outputs": [],
   "source": [
    "# Importing standard Qiskit libraries\n",
    "from qiskit import QuantumCircuit, transpile\n",
    "from qiskit.tools.jupyter import *\n",
    "from qiskit.visualization import *\n",
    "from ibm_quantum_widgets import *\n",
    "\n",
    "# qiskit-ibmq-provider has been deprecated.\n",
    "# Please see the Migration Guides in https://ibm.biz/provider_migration_guide for more detail.\n",
    "from qiskit_ibm_runtime import QiskitRuntimeService, Sampler, Estimator, Session, Options\n",
    "\n",
    "# Loading your IBM Quantum account(s)\n",
    "service = QiskitRuntimeService(channel=\"ibm_quantum\")\n",
    "\n",
    "# Invoke a primitive. For more details see https://qiskit.org/documentation/partners/qiskit_ibm_runtime/tutorials.html\n",
    "# result = Sampler(\"ibmq_qasm_simulator\").run(circuits).result()"
   ]
  },
  {
   "cell_type": "code",
   "execution_count": 18,
   "id": "f5e4a17f-060b-476b-a907-a1d82388d4a6",
   "metadata": {
    "tags": []
   },
   "outputs": [
    {
     "name": "stdin",
     "output_type": "stream",
     "text": [
      "Enter password length (at least 8 characters long):  78\n"
     ]
    },
    {
     "name": "stdout",
     "output_type": "stream",
     "text": [
      "Your password is: vV6S^W3N5!?Xa$x.2ers9&@zu,m1FZToBCqO/j8pcKDbEHfGl:nd-J*i=7+g#yA0;wUhM4kRPIQYLt\n"
     ]
    }
   ],
   "source": [
    "# This project will be one that uses a quantum circuit to generate a random password\n",
    "from qiskit import QuantumCircuit, transpile, assemble, Aer, IBMQ, execute\n",
    "from qiskit.circuit import QuantumRegister, ClassicalRegister\n",
    "from qiskit.providers.aer import AerSimulator\n",
    "\n",
    "# Function that converts a list of bits\n",
    "# into decimal. MSB first\n",
    "def bits_to_dec(bits):\n",
    "    dec = 0\n",
    "    iter_count = 0\n",
    "    for x in range(len(bits),0,-1):\n",
    "        dec += int(bits[x-1]) * (2**(x-1))\n",
    "        iter_count += 1\n",
    "    return dec\n",
    "\n",
    "\n",
    "# Function that selects a random character from the available character groups\n",
    "# and from the provided index\n",
    "def select_char(group_num, index_num):\n",
    "    # Choose the group depending on the group number\n",
    "    # The index needs a modulo operator since not all groups have the same size\n",
    "    char_to_return = ''\n",
    "    if group_num == 0:\n",
    "        index = index_num % len(uppercase_alpha)\n",
    "        char_to_return = uppercase_alpha[index]\n",
    "    elif group_num == 1:\n",
    "        index = index_num % len(lowercase_alpha) \n",
    "        char_to_return = lowercase_alpha[index]\n",
    "    elif group_num == 2:\n",
    "        index = index_num % len(numbers)\n",
    "        char_to_return = numbers[index]\n",
    "    else:\n",
    "        index = index_num % len(special_symbols)\n",
    "        char_to_return = special_symbols[index]\n",
    "    return char_to_return\n",
    "        \n",
    "    \n",
    "# Define lists of characters for passwords\n",
    "uppercase_alpha = ['A', 'B', 'C', 'D', 'E', 'F', 'G', 'H', 'I', 'J', 'K', 'L', 'M', 'N', 'O', 'P', 'Q', 'R', 'S', 'T', 'U', 'V', 'W', 'X', 'Y', 'Z']\n",
    "lowercase_alpha = ['a', 'b', 'c', 'd', 'e', 'f', 'g', 'h', 'i', 'j', 'k', 'l', 'm', 'n', 'o', 'p', 'q', 'r', 's', 't', 'u', 'v', 'w', 'x', 'y', 'z']\n",
    "numbers = ['1', '2', '3', '4', '5', '6', '7', '8', '9', '0']\n",
    "special_symbols = ['!', ':', ';', '?', '/', '.', ',', '#', '@', '&', '*', '-', '^', '$', '+', '=']\n",
    "\n",
    "# Define variables that will be used to output the password\n",
    "password = ''\n",
    "group_bits = 0\n",
    "index_bits = 0\n",
    "\n",
    "# The quantum circuit will have 7 lines. \n",
    "# The first 2 lines will determine which group to use, the next 5 lines will determine which element of the list to use\n",
    "\n",
    "qr = QuantumRegister(7)\n",
    "cr = ClassicalRegister(7)\n",
    "qc = QuantumCircuit(qr, cr)\n",
    "\n",
    "qgroup0, qgroup1, qindex0, qindex1, qindex2, qindex3, qindex4 = qr\n",
    "bgroup0, bgroup1, bindex0, bindex1, bindex2, bindex3, bindex4 = cr\n",
    "\n",
    "# Apply a Hadamard gate to all qubits to introduce randomness\n",
    "qc.h(qr)\n",
    "\n",
    "# measure all the qubits\n",
    "qc.measure([qgroup0, qgroup1, qindex0, qindex1, qindex2, qindex3, qindex4], [bgroup0, bgroup1, bindex0, bindex1, bindex2, bindex3, bindex4])\n",
    "\n",
    "# Get user input\n",
    "while True:\n",
    "    # Check if input type is ok\n",
    "    try:\n",
    "        pass_length = 0\n",
    "        pass_length = int(input(\"Enter password length (at least 8 characters long): \"))\n",
    "        \n",
    "    # For input mismatch    \n",
    "    except ValueError:\n",
    "        print(\"Input error. Try again\")\n",
    "        continue\n",
    "        \n",
    "    # Check if length is within range\n",
    "    if ((pass_length <= 78) & (pass_length >= 8)):\n",
    "        break    \n",
    "    else:\n",
    "        print(\"Password length incompatible.\")\n",
    "        continue\n",
    "\n",
    "# Loop to find random characters to make the password\n",
    "for i in range(int(pass_length)):\n",
    "    no_duplicate = False\n",
    "    \n",
    "    # Make sure that there are no duplicate characters within the password\n",
    "    while no_duplicate is False:\n",
    "        if i == 0:\n",
    "            no_duplicate = True\n",
    "        else:\n",
    "            no_duplicate = False\n",
    "            \n",
    "        # Run the job to get the 7 bits\n",
    "        backend = Aer.get_backend('qasm_simulator')\n",
    "        counts = execute(qc, backend, shots = 1).result().get_counts()\n",
    "\n",
    "        # Check the value returned by getting the key\n",
    "        seven_bits = []\n",
    "        for key in counts.keys():\n",
    "            seven_bits.append(key)\n",
    "\n",
    "        bit_num = seven_bits[0]\n",
    "\n",
    "        # Convert the bits into decimal, and acquire the letter to be appended into the password\n",
    "        group_num = bits_to_dec([bit_num[1], bit_num[0]])\n",
    "        index_num = bits_to_dec([bit_num[6], bit_num[5], bit_num[4], bit_num[3], bit_num[2]])\n",
    "        temp_char = select_char(group_num, index_num)\n",
    "    \n",
    "        # Check if it's a duplicate character\n",
    "        if i >= 1:\n",
    "            for k in range(len(password)):\n",
    "                # If there is a duplicate, need to select a new character\n",
    "                if password[k] is temp_char:\n",
    "                    break\n",
    "                elif (k == (len(password) - 1)):\n",
    "                    no_duplicate = True\n",
    "        \n",
    "        if no_duplicate is True:\n",
    "            password += temp_char\n",
    "                \n",
    "                \n",
    "# Output password    \n",
    "print(\"Your password is: \" + password)\n",
    " \n",
    "# Uncomment this if you want to see the circuit    \n",
    "# qc.draw(output=\"mpl\")"
   ]
  },
  {
   "cell_type": "code",
   "execution_count": null,
   "id": "b07f6921-72b7-430b-8de5-33dda60aab6e",
   "metadata": {},
   "outputs": [],
   "source": [
    "\n"
   ]
  }
 ],
 "metadata": {
  "kernelspec": {
   "display_name": "Python 3 (ipykernel)",
   "language": "python",
   "name": "python3"
  },
  "language_info": {
   "codemirror_mode": {
    "name": "ipython",
    "version": 3
   },
   "file_extension": ".py",
   "mimetype": "text/x-python",
   "name": "python",
   "nbconvert_exporter": "python",
   "pygments_lexer": "ipython3",
   "version": "3.10.8"
  },
  "widgets": {
   "application/vnd.jupyter.widget-state+json": {
    "state": {
     "015fe2d0df674de484d9a28214ce6fd9": {
      "model_module": "@jupyter-widgets/controls",
      "model_module_version": "2.0.0",
      "model_name": "HTMLModel",
      "state": {
       "layout": "IPY_MODEL_26b8dc8a0b8a453995285cca0302fadc",
       "style": "IPY_MODEL_7335522fbf1349d59291309672cfcec4",
       "value": "<h5>Message</h5>"
      }
     },
     "08c5cb41272142ac803b5bde0686b65c": {
      "model_module": "@jupyter-widgets/controls",
      "model_module_version": "2.0.0",
      "model_name": "ButtonStyleModel",
      "state": {
       "font_family": null,
       "font_size": null,
       "font_style": null,
       "font_variant": null,
       "font_weight": null,
       "text_color": null,
       "text_decoration": null
      }
     },
     "0ae444798165433c9beccf657b656929": {
      "model_module": "@jupyter-widgets/controls",
      "model_module_version": "2.0.0",
      "model_name": "HTMLModel",
      "state": {
       "layout": "IPY_MODEL_46ffa07e8f814c61b56fd74a4db23b94",
       "style": "IPY_MODEL_52243fa92ffd41a3b13e72e7d532f420",
       "value": "<h5>Queue</h5>"
      }
     },
     "0d4c713c1b9549eaad54cbd8a2a797d0": {
      "model_module": "@jupyter-widgets/controls",
      "model_module_version": "2.0.0",
      "model_name": "HTMLStyleModel",
      "state": {
       "description_width": "",
       "font_size": null,
       "text_color": null
      }
     },
     "0dbad100085c455b9631c16099e68196": {
      "model_module": "@jupyter-widgets/controls",
      "model_module_version": "2.0.0",
      "model_name": "HTMLStyleModel",
      "state": {
       "description_width": "",
       "font_size": null,
       "text_color": null
      }
     },
     "10a3b39b1d344b5492baa2797e4293ce": {
      "model_module": "@jupyter-widgets/controls",
      "model_module_version": "2.0.0",
      "model_name": "HBoxModel",
      "state": {
       "children": [
        "IPY_MODEL_a27d3adf51224889809cefe0e29e8575",
        "IPY_MODEL_219b06ea0da047dd9845a28fb32c552b",
        "IPY_MODEL_3456d63e1609458ebeee01bce8a1b0b0",
        "IPY_MODEL_0ae444798165433c9beccf657b656929",
        "IPY_MODEL_015fe2d0df674de484d9a28214ce6fd9"
       ],
       "layout": "IPY_MODEL_484792056d1d4b4fad5726631c08aff2"
      }
     },
     "1576dea4ae1f4bf7bff8d95b3e8471f4": {
      "model_module": "@jupyter-widgets/controls",
      "model_module_version": "2.0.0",
      "model_name": "HTMLModel",
      "state": {
       "layout": "IPY_MODEL_aa6d961a5be0401584c231c4112e479a",
       "style": "IPY_MODEL_6d9adbd7466149e99fc041656e2c78e1",
       "value": "<p style='font-family: IBM Plex Sans, Arial, Helvetica, sans-serif; font-size: 20px; font-weight: medium;'>Circuit Properties</p>"
      }
     },
     "219b06ea0da047dd9845a28fb32c552b": {
      "model_module": "@jupyter-widgets/controls",
      "model_module_version": "2.0.0",
      "model_name": "HTMLModel",
      "state": {
       "layout": "IPY_MODEL_43b0f41fc898485c9ef2b5e04180ff2b",
       "style": "IPY_MODEL_0d4c713c1b9549eaad54cbd8a2a797d0",
       "value": "<h5>Backend</h5>"
      }
     },
     "26b8dc8a0b8a453995285cca0302fadc": {
      "model_module": "@jupyter-widgets/base",
      "model_module_version": "2.0.0",
      "model_name": "LayoutModel",
      "state": {}
     },
     "33b7f2858b924b72bbe290c31cffb3a0": {
      "model_module": "@jupyter-widgets/base",
      "model_module_version": "2.0.0",
      "model_name": "LayoutModel",
      "state": {
       "width": "190px"
      }
     },
     "3456d63e1609458ebeee01bce8a1b0b0": {
      "model_module": "@jupyter-widgets/controls",
      "model_module_version": "2.0.0",
      "model_name": "HTMLModel",
      "state": {
       "layout": "IPY_MODEL_f546796bcce6485ab01cd7334ad78405",
       "style": "IPY_MODEL_abf3b100ed1444fb80cd1c516648fd93",
       "value": "<h5>Status</h5>"
      }
     },
     "43b0f41fc898485c9ef2b5e04180ff2b": {
      "model_module": "@jupyter-widgets/base",
      "model_module_version": "2.0.0",
      "model_name": "LayoutModel",
      "state": {
       "width": "145px"
      }
     },
     "46ffa07e8f814c61b56fd74a4db23b94": {
      "model_module": "@jupyter-widgets/base",
      "model_module_version": "2.0.0",
      "model_name": "LayoutModel",
      "state": {
       "width": "70px"
      }
     },
     "484792056d1d4b4fad5726631c08aff2": {
      "model_module": "@jupyter-widgets/base",
      "model_module_version": "2.0.0",
      "model_name": "LayoutModel",
      "state": {
       "margin": "0px 0px 0px 37px",
       "width": "600px"
      }
     },
     "52243fa92ffd41a3b13e72e7d532f420": {
      "model_module": "@jupyter-widgets/controls",
      "model_module_version": "2.0.0",
      "model_name": "HTMLStyleModel",
      "state": {
       "description_width": "",
       "font_size": null,
       "text_color": null
      }
     },
     "673f8c18660148f788a696a328394018": {
      "model_module": "@jupyter-widgets/base",
      "model_module_version": "2.0.0",
      "model_name": "LayoutModel",
      "state": {
       "grid_area": "right",
       "padding": "0px 0px 0px 0px",
       "width": "70px"
      }
     },
     "6d9adbd7466149e99fc041656e2c78e1": {
      "model_module": "@jupyter-widgets/controls",
      "model_module_version": "2.0.0",
      "model_name": "HTMLStyleModel",
      "state": {
       "description_width": "",
       "font_size": null,
       "text_color": null
      }
     },
     "7335522fbf1349d59291309672cfcec4": {
      "model_module": "@jupyter-widgets/controls",
      "model_module_version": "2.0.0",
      "model_name": "HTMLStyleModel",
      "state": {
       "description_width": "",
       "font_size": null,
       "text_color": null
      }
     },
     "a27d3adf51224889809cefe0e29e8575": {
      "model_module": "@jupyter-widgets/controls",
      "model_module_version": "2.0.0",
      "model_name": "HTMLModel",
      "state": {
       "layout": "IPY_MODEL_33b7f2858b924b72bbe290c31cffb3a0",
       "style": "IPY_MODEL_0dbad100085c455b9631c16099e68196",
       "value": "<h5>Job ID</h5>"
      }
     },
     "aa6d961a5be0401584c231c4112e479a": {
      "model_module": "@jupyter-widgets/base",
      "model_module_version": "2.0.0",
      "model_name": "LayoutModel",
      "state": {
       "margin": "0px 0px 10px 0px"
      }
     },
     "abf3b100ed1444fb80cd1c516648fd93": {
      "model_module": "@jupyter-widgets/controls",
      "model_module_version": "2.0.0",
      "model_name": "HTMLStyleModel",
      "state": {
       "description_width": "",
       "font_size": null,
       "text_color": null
      }
     },
     "b479ef6b7cf140b6bc400771f5c4c999": {
      "model_module": "@jupyter-widgets/controls",
      "model_module_version": "2.0.0",
      "model_name": "ButtonModel",
      "state": {
       "button_style": "primary",
       "description": "Clear",
       "layout": "IPY_MODEL_673f8c18660148f788a696a328394018",
       "style": "IPY_MODEL_08c5cb41272142ac803b5bde0686b65c",
       "tooltip": null
      }
     },
     "c7b3b1a4f9c649bf933fc2ad881a474c": {
      "model_module": "@jupyter-widgets/base",
      "model_module_version": "2.0.0",
      "model_name": "LayoutModel",
      "state": {
       "grid_template_areas": "\n                                       \". . . . right \"\n                                        ",
       "grid_template_columns": "20% 20% 20% 20% 20%",
       "width": "100%"
      }
     },
     "d356f188529244baa4fd7e2f68df7b24": {
      "model_module": "@jupyter-widgets/controls",
      "model_module_version": "2.0.0",
      "model_name": "GridBoxModel",
      "state": {
       "children": [
        "IPY_MODEL_b479ef6b7cf140b6bc400771f5c4c999"
       ],
       "layout": "IPY_MODEL_c7b3b1a4f9c649bf933fc2ad881a474c"
      }
     },
     "f546796bcce6485ab01cd7334ad78405": {
      "model_module": "@jupyter-widgets/base",
      "model_module_version": "2.0.0",
      "model_name": "LayoutModel",
      "state": {
       "width": "95px"
      }
     }
    },
    "version_major": 2,
    "version_minor": 0
   }
  }
 },
 "nbformat": 4,
 "nbformat_minor": 5
}
