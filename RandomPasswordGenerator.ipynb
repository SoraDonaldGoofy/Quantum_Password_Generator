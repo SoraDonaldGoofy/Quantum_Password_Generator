{
 "cells": [
  {
   "cell_type": "code",
   "execution_count": 1,
   "id": "b3fa519f-ed17-431f-8d52-60f100b80bcf",
   "metadata": {
    "tags": []
   },
   "outputs": [],
   "source": [
    "# Importing standard Qiskit libraries\n",
    "from qiskit import QuantumCircuit, transpile\n",
    "from qiskit.tools.jupyter import *\n",
    "from qiskit.visualization import *\n",
    "from ibm_quantum_widgets import *\n",
    "\n",
    "# qiskit-ibmq-provider has been deprecated.\n",
    "# Please see the Migration Guides in https://ibm.biz/provider_migration_guide for more detail.\n",
    "from qiskit_ibm_runtime import QiskitRuntimeService, Sampler, Estimator, Session, Options\n",
    "\n",
    "# Loading your IBM Quantum account(s)\n",
    "service = QiskitRuntimeService(channel=\"ibm_quantum\")\n",
    "\n",
    "# Invoke a primitive. For more details see https://qiskit.org/documentation/partners/qiskit_ibm_runtime/tutorials.html\n",
    "# result = Sampler(\"ibmq_qasm_simulator\").run(circuits).result()"
   ]
  },
  {
   "cell_type": "code",
   "execution_count": 7,
   "id": "f5e4a17f-060b-476b-a907-a1d82388d4a6",
   "metadata": {
    "tags": []
   },
   "outputs": [
    {
     "name": "stdin",
     "output_type": "stream",
     "text": [
      "Enter password length (at least 8 characters long):  asdfadsfsa\n"
     ]
    },
    {
     "name": "stdout",
     "output_type": "stream",
     "text": [
      "Input error. Try again\n"
     ]
    },
    {
     "name": "stdin",
     "output_type": "stream",
     "text": [
      "Enter password length (at least 8 characters long):  1231\n"
     ]
    },
    {
     "ename": "KeyboardInterrupt",
     "evalue": "",
     "output_type": "error",
     "traceback": [
      "\u001b[0;31m---------------------------------------------------------------------------\u001b[0m",
      "\u001b[0;31mKeyboardInterrupt\u001b[0m                         Traceback (most recent call last)",
      "Cell \u001b[0;32mIn[7], line 85\u001b[0m\n\u001b[1;32m     82\u001b[0m \u001b[38;5;28;01mfor\u001b[39;00m i \u001b[38;5;129;01min\u001b[39;00m \u001b[38;5;28mrange\u001b[39m(\u001b[38;5;28mint\u001b[39m(pass_length)):\n\u001b[1;32m     83\u001b[0m     \u001b[38;5;66;03m# Run the job to get the 7 bits\u001b[39;00m\n\u001b[1;32m     84\u001b[0m     backend \u001b[38;5;241m=\u001b[39m Aer\u001b[38;5;241m.\u001b[39mget_backend(\u001b[38;5;124m'\u001b[39m\u001b[38;5;124mqasm_simulator\u001b[39m\u001b[38;5;124m'\u001b[39m)\n\u001b[0;32m---> 85\u001b[0m     counts \u001b[38;5;241m=\u001b[39m \u001b[43mexecute\u001b[49m\u001b[43m(\u001b[49m\u001b[43mqc\u001b[49m\u001b[43m,\u001b[49m\u001b[43m \u001b[49m\u001b[43mbackend\u001b[49m\u001b[43m,\u001b[49m\u001b[43m \u001b[49m\u001b[43mshots\u001b[49m\u001b[43m \u001b[49m\u001b[38;5;241;43m=\u001b[39;49m\u001b[43m \u001b[49m\u001b[38;5;241;43m1\u001b[39;49m\u001b[43m)\u001b[49m\u001b[38;5;241;43m.\u001b[39;49m\u001b[43mresult\u001b[49m\u001b[43m(\u001b[49m\u001b[43m)\u001b[49m\u001b[38;5;241m.\u001b[39mget_counts()\n\u001b[1;32m     87\u001b[0m     \u001b[38;5;66;03m# Check the value returned by getting the key\u001b[39;00m\n\u001b[1;32m     88\u001b[0m     seven_bits \u001b[38;5;241m=\u001b[39m []\n",
      "File \u001b[0;32m/opt/conda/lib/python3.10/site-packages/qiskit_aer/jobs/utils.py:42\u001b[0m, in \u001b[0;36mrequires_submit.<locals>._wrapper\u001b[0;34m(self, *args, **kwargs)\u001b[0m\n\u001b[1;32m     40\u001b[0m \u001b[38;5;28;01mif\u001b[39;00m \u001b[38;5;28mself\u001b[39m\u001b[38;5;241m.\u001b[39m_future \u001b[38;5;129;01mis\u001b[39;00m \u001b[38;5;28;01mNone\u001b[39;00m:\n\u001b[1;32m     41\u001b[0m     \u001b[38;5;28;01mraise\u001b[39;00m JobError(\u001b[38;5;124m\"\u001b[39m\u001b[38;5;124mJob not submitted yet!. You have to .submit() first!\u001b[39m\u001b[38;5;124m\"\u001b[39m)\n\u001b[0;32m---> 42\u001b[0m \u001b[38;5;28;01mreturn\u001b[39;00m \u001b[43mfunc\u001b[49m\u001b[43m(\u001b[49m\u001b[38;5;28;43mself\u001b[39;49m\u001b[43m,\u001b[49m\u001b[43m \u001b[49m\u001b[38;5;241;43m*\u001b[39;49m\u001b[43margs\u001b[49m\u001b[43m,\u001b[49m\u001b[43m \u001b[49m\u001b[38;5;241;43m*\u001b[39;49m\u001b[38;5;241;43m*\u001b[39;49m\u001b[43mkwargs\u001b[49m\u001b[43m)\u001b[49m\n",
      "File \u001b[0;32m/opt/conda/lib/python3.10/site-packages/qiskit_aer/jobs/aerjob.py:114\u001b[0m, in \u001b[0;36mAerJob.result\u001b[0;34m(self, timeout)\u001b[0m\n\u001b[1;32m     96\u001b[0m \u001b[38;5;129m@requires_submit\u001b[39m\n\u001b[1;32m     97\u001b[0m \u001b[38;5;28;01mdef\u001b[39;00m \u001b[38;5;21mresult\u001b[39m(\u001b[38;5;28mself\u001b[39m, timeout\u001b[38;5;241m=\u001b[39m\u001b[38;5;28;01mNone\u001b[39;00m):\n\u001b[1;32m     98\u001b[0m     \u001b[38;5;66;03m# pylint: disable=arguments-differ\u001b[39;00m\n\u001b[1;32m     99\u001b[0m     \u001b[38;5;124;03m\"\"\"Get job result. The behavior is the same as the underlying\u001b[39;00m\n\u001b[1;32m    100\u001b[0m \u001b[38;5;124;03m    concurrent Future objects,\u001b[39;00m\n\u001b[1;32m    101\u001b[0m \n\u001b[0;32m   (...)\u001b[0m\n\u001b[1;32m    112\u001b[0m \u001b[38;5;124;03m        concurrent.futures.CancelledError: if job cancelled before completed.\u001b[39;00m\n\u001b[1;32m    113\u001b[0m \u001b[38;5;124;03m    \"\"\"\u001b[39;00m\n\u001b[0;32m--> 114\u001b[0m     \u001b[38;5;28;01mreturn\u001b[39;00m \u001b[38;5;28;43mself\u001b[39;49m\u001b[38;5;241;43m.\u001b[39;49m\u001b[43m_future\u001b[49m\u001b[38;5;241;43m.\u001b[39;49m\u001b[43mresult\u001b[49m\u001b[43m(\u001b[49m\u001b[43mtimeout\u001b[49m\u001b[38;5;241;43m=\u001b[39;49m\u001b[43mtimeout\u001b[49m\u001b[43m)\u001b[49m\n",
      "File \u001b[0;32m/opt/conda/lib/python3.10/concurrent/futures/_base.py:453\u001b[0m, in \u001b[0;36mFuture.result\u001b[0;34m(self, timeout)\u001b[0m\n\u001b[1;32m    450\u001b[0m \u001b[38;5;28;01melif\u001b[39;00m \u001b[38;5;28mself\u001b[39m\u001b[38;5;241m.\u001b[39m_state \u001b[38;5;241m==\u001b[39m FINISHED:\n\u001b[1;32m    451\u001b[0m     \u001b[38;5;28;01mreturn\u001b[39;00m \u001b[38;5;28mself\u001b[39m\u001b[38;5;241m.\u001b[39m__get_result()\n\u001b[0;32m--> 453\u001b[0m \u001b[38;5;28;43mself\u001b[39;49m\u001b[38;5;241;43m.\u001b[39;49m\u001b[43m_condition\u001b[49m\u001b[38;5;241;43m.\u001b[39;49m\u001b[43mwait\u001b[49m\u001b[43m(\u001b[49m\u001b[43mtimeout\u001b[49m\u001b[43m)\u001b[49m\n\u001b[1;32m    455\u001b[0m \u001b[38;5;28;01mif\u001b[39;00m \u001b[38;5;28mself\u001b[39m\u001b[38;5;241m.\u001b[39m_state \u001b[38;5;129;01min\u001b[39;00m [CANCELLED, CANCELLED_AND_NOTIFIED]:\n\u001b[1;32m    456\u001b[0m     \u001b[38;5;28;01mraise\u001b[39;00m CancelledError()\n",
      "File \u001b[0;32m/opt/conda/lib/python3.10/threading.py:320\u001b[0m, in \u001b[0;36mCondition.wait\u001b[0;34m(self, timeout)\u001b[0m\n\u001b[1;32m    318\u001b[0m \u001b[38;5;28;01mtry\u001b[39;00m:    \u001b[38;5;66;03m# restore state no matter what (e.g., KeyboardInterrupt)\u001b[39;00m\n\u001b[1;32m    319\u001b[0m     \u001b[38;5;28;01mif\u001b[39;00m timeout \u001b[38;5;129;01mis\u001b[39;00m \u001b[38;5;28;01mNone\u001b[39;00m:\n\u001b[0;32m--> 320\u001b[0m         \u001b[43mwaiter\u001b[49m\u001b[38;5;241;43m.\u001b[39;49m\u001b[43macquire\u001b[49m\u001b[43m(\u001b[49m\u001b[43m)\u001b[49m\n\u001b[1;32m    321\u001b[0m         gotit \u001b[38;5;241m=\u001b[39m \u001b[38;5;28;01mTrue\u001b[39;00m\n\u001b[1;32m    322\u001b[0m     \u001b[38;5;28;01melse\u001b[39;00m:\n",
      "\u001b[0;31mKeyboardInterrupt\u001b[0m: "
     ]
    }
   ],
   "source": [
    "# This project will be one that uses a quantum circuit to generate a random password\n",
    "from qiskit import QuantumCircuit, transpile, assemble, Aer, IBMQ, execute\n",
    "from qiskit.circuit import QuantumRegister, ClassicalRegister\n",
    "from qiskit.providers.aer import AerSimulator\n",
    "\n",
    "# Function that converts a list of bits\n",
    "# into decimal. MSB first\n",
    "def bits_to_dec(bits):\n",
    "    dec = 0\n",
    "    iter_count = 0\n",
    "    for x in range(len(bits),0,-1):\n",
    "        dec += int(bits[x-1]) * (2**(x-1))\n",
    "        iter_count += 1\n",
    "    return dec\n",
    "\n",
    "\n",
    "# Function that selects a random character from the available character groups\n",
    "# and from the provided index\n",
    "def select_char(group_num, index_num):\n",
    "    # Choose the group depending on the group number\n",
    "    # The index needs a modulo operator since not all groups have the same size\n",
    "    char_to_return = ''\n",
    "    if group_num == 0:\n",
    "        index = index_num % len(uppercase_alpha)\n",
    "        char_to_return = uppercase_alpha[index]\n",
    "    elif group_num == 1:\n",
    "        index = index_num % len(lowercase_alpha) \n",
    "        char_to_return = lowercase_alpha[index]\n",
    "    elif group_num == 2:\n",
    "        index = index_num % len(numbers)\n",
    "        numbers[index]\n",
    "    else:\n",
    "        index = index_num % len(special_symbols)\n",
    "        char_to_return = special_symbols[index]\n",
    "    return char_to_return\n",
    "        \n",
    "    \n",
    "# Define lists of characters for passwords\n",
    "uppercase_alpha = ['A', 'B', 'C', 'D', 'E', 'F', 'G', 'H', 'I', 'J', 'K', 'L', 'M', 'N', 'O', 'P', 'Q', 'R', 'S', 'T', 'U', 'V', 'W', 'X', 'Y', 'Z']\n",
    "lowercase_alpha = ['a', 'b', 'c', 'd', 'e', 'f', 'g', 'h', 'i', 'j', 'k', 'l', 'm', 'n', 'o', 'p', 'q', 'r', 's', 't', 'u', 'v', 'w', 'x', 'y', 'z']\n",
    "numbers = ['1', '2', '3', '4', '5', '6', '7', '8', '0']\n",
    "special_symbols = ['!', ':', ';', '?', '/', '.', ',', '#', '@', '&', '*', '-', '^', '$', '+', '=']\n",
    "\n",
    "# Define variables that will be used to output the password\n",
    "password = ''\n",
    "group_bits = 0\n",
    "index_bits = 0\n",
    "\n",
    "# The quantum circuit will have 7 lines. \n",
    "# The first 2 lines will determine which group to use, the next 5 lines will determine which element of the list to use\n",
    "\n",
    "qr = QuantumRegister(7)\n",
    "cr = ClassicalRegister(7)\n",
    "qc = QuantumCircuit(qr, cr)\n",
    "\n",
    "qgroup0, qgroup1, qindex0, qindex1, qindex2, qindex3, qindex4 = qr\n",
    "bgroup0, bgroup1, bindex0, bindex1, bindex2, bindex3, bindex4 = cr\n",
    "\n",
    "# Apply a Hadamard gate to all qubits to introduce randomness\n",
    "qc.h(qr)\n",
    "\n",
    "# measure all the qubits\n",
    "qc.measure([qgroup0, qgroup1, qindex0, qindex1, qindex2, qindex3, qindex4], [bgroup0, bgroup1, bindex0, bindex1, bindex2, bindex3, bindex4])\n",
    "\n",
    "# Get user input\n",
    "while True:\n",
    "    # Check if input type is ok\n",
    "    try:\n",
    "        pass_length = 0\n",
    "        pass_length = int(input(\"Enter password length (at least 8 characters long): \"))\n",
    "        \n",
    "    # For input mismatch    \n",
    "    except ValueError:\n",
    "        print(\"Input error. Try again\")\n",
    "        continue\n",
    "        \n",
    "    # Check if length is ok\n",
    "    if int(pass_length) >= 8:\n",
    "        break\n",
    "        \n",
    "    else:\n",
    "        print(\"Password length not long enough.\")\n",
    "\n",
    "# Loop to find random characters to make the password\n",
    "for i in range(int(pass_length)):\n",
    "    # Run the job to get the 7 bits\n",
    "    backend = Aer.get_backend('qasm_simulator')\n",
    "    counts = execute(qc, backend, shots = 1).result().get_counts()\n",
    "\n",
    "    # Check the value returned by getting the key\n",
    "    seven_bits = []\n",
    "    for key in counts.keys():\n",
    "        seven_bits.append(key)\n",
    "\n",
    "    bit_num = seven_bits[0]\n",
    "    \n",
    "    # Convert the bits into decimal, and acquire the letter to be appended into the password\n",
    "    group_num = bits_to_dec([bit_num[1], bit_num[0]])\n",
    "    index_num = bits_to_dec([bit_num[6], bit_num[5], bit_num[4], bit_num[3], bit_num[2]])\n",
    "    password += select_char(group_num, index_num)\n",
    "    \n",
    "# Output password    \n",
    "print(\"Your password is: \" + password)\n",
    " \n",
    "# Uncomment this if you want to see the circuit    \n",
    "# qc.draw(output=\"mpl\")"
   ]
  },
  {
   "cell_type": "code",
   "execution_count": null,
   "id": "b07f6921-72b7-430b-8de5-33dda60aab6e",
   "metadata": {},
   "outputs": [],
   "source": [
    "\n"
   ]
  }
 ],
 "metadata": {
  "kernelspec": {
   "display_name": "Python 3 (ipykernel)",
   "language": "python",
   "name": "python3"
  },
  "language_info": {
   "codemirror_mode": {
    "name": "ipython",
    "version": 3
   },
   "file_extension": ".py",
   "mimetype": "text/x-python",
   "name": "python",
   "nbconvert_exporter": "python",
   "pygments_lexer": "ipython3",
   "version": "3.10.8"
  },
  "widgets": {
   "application/vnd.jupyter.widget-state+json": {
    "state": {},
    "version_major": 2,
    "version_minor": 0
   }
  }
 },
 "nbformat": 4,
 "nbformat_minor": 5
}
